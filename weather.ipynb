{
 "cells": [
  {
   "cell_type": "code",
   "execution_count": 41,
   "id": "4b1c864c-a24e-4029-b565-ae4cf090da8d",
   "metadata": {},
   "outputs": [
    {
     "name": "stdout",
     "output_type": "stream",
     "text": [
      "Requirement already satisfied: requests in c:\\users\\dixad\\anaconda3\\lib\\site-packages (2.32.2)\n",
      "Requirement already satisfied: charset-normalizer<4,>=2 in c:\\users\\dixad\\anaconda3\\lib\\site-packages (from requests) (2.0.4)\n",
      "Requirement already satisfied: idna<4,>=2.5 in c:\\users\\dixad\\anaconda3\\lib\\site-packages (from requests) (3.7)\n",
      "Requirement already satisfied: urllib3<3,>=1.21.1 in c:\\users\\dixad\\anaconda3\\lib\\site-packages (from requests) (2.2.2)\n",
      "Requirement already satisfied: certifi>=2017.4.17 in c:\\users\\dixad\\anaconda3\\lib\\site-packages (from requests) (2024.7.4)\n",
      "Requirement already satisfied: beautifulsoup4 in c:\\users\\dixad\\anaconda3\\lib\\site-packages (4.12.3)\n",
      "Requirement already satisfied: soupsieve>1.2 in c:\\users\\dixad\\anaconda3\\lib\\site-packages (from beautifulsoup4) (2.5)\n"
     ]
    }
   ],
   "source": [
    "!pip install requests\n",
    "!pip install beautifulsoup4"
   ]
  },
  {
   "cell_type": "code",
   "execution_count": 42,
   "id": "684a2aa3-6bc7-47bf-ae04-fb91fd1c9cfd",
   "metadata": {},
   "outputs": [
    {
     "name": "stdout",
     "output_type": "stream",
     "text": [
      "Weather in Paderborn, DE:\n",
      "Temperature: 1.86°C\n",
      "Weather: few clouds\n",
      "Pressure: 996 hPa\n",
      "Humidity: 80%\n",
      "Wind Speed: 6.69 m/s\n"
     ]
    }
   ],
   "source": [
    "import requests\n",
    "\n",
    "\n",
    "api_key = \"API key\" #\"Replace this with your actual API key #OpenWeatherMap API key\n",
    "city = \"Paderborn\"  #  can change this to another city if needed\n",
    "\n",
    "# Construct the API URL for current weather data\n",
    "url = f\"http://api.openweathermap.org/data/2.5/weather?q={city}&appid={api_key}&units=metric\"\n",
    "\n",
    "# Make the API request\n",
    "try:\n",
    "    response = requests.get(url)\n",
    "\n",
    "    # Check for a successful response\n",
    "    if response.status_code == 200:\n",
    "        # Parse the JSON response\n",
    "        data = response.json()\n",
    "\n",
    "        # Extract weather details\n",
    "        temp = data['main']['temp']\n",
    "        weather_desc = data['weather'][0]['description']\n",
    "        pressure = data['main']['pressure']\n",
    "        humidity = data['main']['humidity']\n",
    "        wind_speed = data['wind']['speed']\n",
    "        country = data['sys']['country']\n",
    "\n",
    "        # Print the weather information\n",
    "        print(f\"Weather in {city}, {country}:\")\n",
    "        print(f\"Temperature: {temp}°C\")\n",
    "        print(f\"Weather: {weather_desc}\")\n",
    "        print(f\"Pressure: {pressure} hPa\")\n",
    "        print(f\"Humidity: {humidity}%\")\n",
    "        print(f\"Wind Speed: {wind_speed} m/s\")\n",
    "    else:\n",
    "        print(f\"Error: Unable to fetch weather data. Response code: {response.status_code}\")\n",
    "        print(f\"Message: {response.text}\")\n",
    "\n",
    "except requests.exceptions.RequestException as e:\n",
    "    print(f\"Error occurred: {e}\")\n"
   ]
  },
  {
   "cell_type": "code",
   "execution_count": 43,
   "id": "5ace8d80-e017-46ac-b9ba-2b14a4243efc",
   "metadata": {},
   "outputs": [
    {
     "name": "stdout",
     "output_type": "stream",
     "text": [
      "Current Location: Bad Salzuflen\n",
      "\n",
      "Weather Forecast for Bad Salzuflen:\n",
      "Evening (2024-11-21 18:00:00): 1.74°C, broken clouds\n",
      "Night (2024-11-22 00:00:00): 0.39°C, overcast clouds\n",
      "Morning (2024-11-22 06:00:00): -0.22°C, light snow\n",
      "Afternoon (2024-11-22 12:00:00): 2.27°C, broken clouds\n",
      "Evening (2024-11-22 18:00:00): 3.76°C, light rain\n",
      "Night (2024-11-23 00:00:00): 0.94°C, light snow\n",
      "Morning (2024-11-23 06:00:00): 1.77°C, overcast clouds\n",
      "Afternoon (2024-11-23 12:00:00): 3.46°C, overcast clouds\n",
      "Evening (2024-11-23 18:00:00): 3.74°C, light rain\n",
      "Night (2024-11-24 00:00:00): 4.92°C, moderate rain\n",
      "Morning (2024-11-24 06:00:00): 8.22°C, light rain\n",
      "Afternoon (2024-11-24 12:00:00): 10.89°C, overcast clouds\n",
      "Evening (2024-11-24 18:00:00): 10.55°C, overcast clouds\n",
      "Night (2024-11-25 00:00:00): 9.43°C, overcast clouds\n",
      "Morning (2024-11-25 06:00:00): 11.5°C, overcast clouds\n",
      "Afternoon (2024-11-25 12:00:00): 11.57°C, light rain\n",
      "Evening (2024-11-25 18:00:00): 8.33°C, broken clouds\n",
      "Night (2024-11-26 00:00:00): 7.94°C, clear sky\n",
      "Morning (2024-11-26 06:00:00): 7.33°C, scattered clouds\n",
      "Afternoon (2024-11-26 12:00:00): 9.58°C, broken clouds\n"
     ]
    }
   ],
   "source": [
    "import requests\n",
    "\n",
    "# Enter your OpenWeatherMap API key\n",
    "api_key = \"API key\" #\"Replace this with your actual API key \n",
    "\n",
    "# Get the city location (this is the location of the user's IP)\n",
    "res = requests.get('https://ipinfo.io/')\n",
    "data = res.json()  # Receive response in JSON format\n",
    "\n",
    "# Extracting the city name from the IP location\n",
    "citydata = data['city']\n",
    "print(\"Current Location:\", citydata)\n",
    "\n",
    "# Construct the API URL for hourly weather forecast (16-day forecast)\n",
    "url = f\"http://api.openweathermap.org/data/2.5/forecast?q={citydata}&appid={api_key}&units=metric\"\n",
    "\n",
    "# Make the API request to OpenWeatherMap\n",
    "response = requests.get(url)\n",
    "if response.status_code == 200:\n",
    "    data = response.json()\n",
    "    \n",
    "    # Displaying weather details for morning, afternoon, evening, and night\n",
    "    print(f\"\\nWeather Forecast for {citydata}:\")\n",
    "\n",
    "    for forecast in data['list']:\n",
    "        # Extract the time and temperature from the forecast\n",
    "        time = forecast['dt_txt']\n",
    "        temp = forecast['main']['temp']\n",
    "        description = forecast['weather'][0]['description']\n",
    "\n",
    "        # Different times of the day\n",
    "        if '06:00:00' in time:\n",
    "            print(f\"Morning ({time}): {temp}°C, {description}\")\n",
    "        elif '12:00:00' in time:\n",
    "            print(f\"Afternoon ({time}): {temp}°C, {description}\")\n",
    "        elif '18:00:00' in time:\n",
    "            print(f\"Evening ({time}): {temp}°C, {description}\")\n",
    "        elif '00:00:00' in time:\n",
    "            print(f\"Night ({time}): {temp}°C, {description}\")\n",
    "else:\n",
    "    print(\"Error: Unable to fetch weather data\")\n"
   ]
  },
  {
   "cell_type": "code",
   "execution_count": 44,
   "id": "cd03f494-8d73-45f5-b0c1-ea3b0f9e4853",
   "metadata": {},
   "outputs": [
    {
     "name": "stdin",
     "output_type": "stream",
     "text": [
      "Enter the city name:  berlin\n"
     ]
    },
    {
     "name": "stdout",
     "output_type": "stream",
     "text": [
      "City entered: berlin\n",
      "\n",
      "Weather Forecast for berlin:\n",
      "Evening (2024-11-21 18:00:00): 1.6°C, light snow\n",
      "Night (2024-11-22 00:00:00): 0.59°C, light snow\n",
      "Morning (2024-11-22 06:00:00): 1°C, light snow\n",
      "Afternoon (2024-11-22 12:00:00): 3.23°C, broken clouds\n",
      "Evening (2024-11-22 18:00:00): 2.63°C, overcast clouds\n",
      "Night (2024-11-23 00:00:00): 2.17°C, overcast clouds\n",
      "Morning (2024-11-23 06:00:00): 0.76°C, clear sky\n",
      "Afternoon (2024-11-23 12:00:00): 4.24°C, scattered clouds\n",
      "Evening (2024-11-23 18:00:00): 2.87°C, overcast clouds\n",
      "Night (2024-11-24 00:00:00): 3.19°C, overcast clouds\n",
      "Morning (2024-11-24 06:00:00): 3.87°C, light rain\n",
      "Afternoon (2024-11-24 12:00:00): 7.56°C, light rain\n",
      "Evening (2024-11-24 18:00:00): 8.2°C, overcast clouds\n",
      "Night (2024-11-25 00:00:00): 8.51°C, overcast clouds\n",
      "Morning (2024-11-25 06:00:00): 8°C, overcast clouds\n",
      "Afternoon (2024-11-25 12:00:00): 12.34°C, overcast clouds\n",
      "Evening (2024-11-25 18:00:00): 11.06°C, light rain\n",
      "Night (2024-11-26 00:00:00): 8.23°C, broken clouds\n",
      "Morning (2024-11-26 06:00:00): 6.75°C, clear sky\n",
      "Afternoon (2024-11-26 12:00:00): 10.43°C, clear sky\n"
     ]
    }
   ],
   "source": [
    "import requests\n",
    "\n",
    "# Enter your OpenWeatherMap API key\n",
    "api_key = \"API key\"  # Replace with your API key\n",
    "\n",
    "# Enter the city name manually\n",
    "citydata = input(\"Enter the city name: \")  # User input for the city name\n",
    "print(\"City entered:\", citydata)\n",
    "\n",
    "# Construct the API URL for hourly weather forecast (5-day forecast)\n",
    "url = f\"http://api.openweathermap.org/data/2.5/forecast?q={citydata}&appid={api_key}&units=metric\"\n",
    "\n",
    "# Make the API request to OpenWeatherMap\n",
    "response = requests.get(url)\n",
    "if response.status_code == 200:\n",
    "    data = response.json()\n",
    "    \n",
    "    # Displaying weather details for morning, afternoon, evening, and night\n",
    "    print(f\"\\nWeather Forecast for {citydata}:\")\n",
    "\n",
    "    for forecast in data['list']:\n",
    "        # Extract the time and temperature from the forecast\n",
    "        time = forecast['dt_txt']\n",
    "        temp = forecast['main']['temp']\n",
    "        description = forecast['weather'][0]['description']\n",
    "\n",
    "        # Different times of the day\n",
    "        if '06:00:00' in time:\n",
    "            print(f\"Morning ({time}): {temp}°C, {description}\")\n",
    "        elif '12:00:00' in time:\n",
    "            print(f\"Afternoon ({time}): {temp}°C, {description}\")\n",
    "        elif '18:00:00' in time:\n",
    "            print(f\"Evening ({time}): {temp}°C, {description}\")\n",
    "        elif '00:00:00' in time:\n",
    "            print(f\"Night ({time}): {temp}°C, {description}\")\n",
    "else:\n",
    "    print(\"Error: Unable to fetch weather data\")\n"
   ]
  },
  {
   "cell_type": "code",
   "execution_count": 45,
   "id": "ad385bdd-b28f-4802-ad0d-098c0c9ec73f",
   "metadata": {},
   "outputs": [
    {
     "data": {
      "image/png": "[encoded data removed]",
      "text/plain": [
       "<Figure size 1200x600 with 1 Axes>"
      ]
     },
     "metadata": {},
     "output_type": "display_data"
    }
   ],
   "source": [
    "import requests\n",
    "import matplotlib.pyplot as plt\n",
    "import pandas as pd\n",
    "\n",
    "# Define your API Key and city\n",
    "API_KEY = 'API key'  # Replace with your actual API key\n",
    "city = \"Paderborn\"\n",
    "\n",
    "# URL to get weather forecast (5 days, 3-hour interval)\n",
    "url = f\"http://api.openweathermap.org/data/2.5/forecast?q={city}&units=metric&cnt=72&appid={API_KEY}\"\n",
    "\n",
    "# Request the data from the API\n",
    "response = requests.get(url)\n",
    "data = response.json()\n",
    "\n",
    "# Extract relevant weather information for 20th, 21st, and 22nd November\n",
    "weather_data = []\n",
    "for forecast in data['list']:\n",
    "    dt = pd.to_datetime(forecast['dt_txt'])\n",
    "    \n",
    "    # Check if the forecast is on 20th, 21st, or 22nd of November\n",
    "    if dt.month == 11 and dt.day in [20, 21, 22]:\n",
    "        weather_data.append({\n",
    "            'Date': dt.strftime('%Y-%m-%d %H:%M'),\n",
    "            'Time of Day': dt.strftime('%H:%M'),\n",
    "            'Temperature': forecast['main']['temp'],\n",
    "            'Weather': forecast['weather'][0]['description']\n",
    "        })\n",
    "\n",
    "# Create a DataFrame for better organization\n",
    "df = pd.DataFrame(weather_data)\n",
    "\n",
    "# Skip any missing data days silently by checking if the DataFrame for a given day is empty\n",
    "if df.empty:\n",
    "    print(\"No data available for the requested days.\")\n",
    "else:\n",
    "    # Plot the data using matplotlib to create a table\n",
    "    fig, ax = plt.subplots(figsize=(12, 6))\n",
    "    ax.axis('tight')\n",
    "    ax.axis('off')\n",
    "    table_data = df.values\n",
    "    columns = df.columns\n",
    "\n",
    "    # Create table in the figure\n",
    "    table = ax.table(cellText=table_data, colLabels=columns, loc='center', cellLoc='center', colColours=[\"#f0f0f0\"]*len(columns))\n",
    "\n",
    "    # Display the table\n",
    "    plt.title(\"Weather Forecast for Paderborn (20th to 22nd November)\", fontsize=16)\n",
    "    plt.show()\n"
   ]
  },
  {
   "cell_type": "code",
   "execution_count": 53,
   "id": "b5ecb417-9c8f-43ee-a3c1-834bfd605095",
   "metadata": {
    "scrolled": true
   },
   "outputs": [
    {
     "data": {
      "application/vnd.plotly.v1+json": {
       "config": {
        "plotlyServerURL": "https://plot.ly"
       },
       "data": [
        {
         "hoverinfo": "text",
         "hovertext": [
          "Temperature: nan°C<br>Weather: nan",
          "Temperature: nan°C<br>Weather: nan",
          "Temperature: nan°C<br>Weather: nan",
          "Temperature: -0.03°C<br>Weather: light snow"
         ],
         "line": {
          "shape": "linear"
         },
         "marker": {
          "size": 8
         },
         "mode": "lines+markers",
         "name": "Weather on 2024-11-21",
         "type": "scatter",
         "visible": true,
         "x": [
          "Morning",
          "Noon",
          "Evening",
          "Night"
         ],
         "y": [
          null,
          null,
          null,
          -0.03
         ]
        },
        {
         "hoverinfo": "text",
         "hovertext": [
          "Temperature: -0.17000000000000004°C<br>Weather: broken clouds",
          "Temperature: 1.3050000000000002°C<br>Weather: overcast clouds",
          "Temperature: 1.49°C<br>Weather: light snow",
          "Temperature: 0.75°C<br>Weather: snow"
         ],
         "line": {
          "shape": "linear"
         },
         "marker": {
          "size": 8
         },
         "mode": "lines+markers",
         "name": "Weather on 2024-11-22",
         "type": "scatter",
         "x": [
          "Morning",
          "Noon",
          "Evening",
          "Night"
         ],
         "y": [
          -0.17000000000000004,
          1.3050000000000002,
          1.49,
          0.75
         ]
        },
        {
         "hoverinfo": "text",
         "hovertext": [
          "Temperature: 1.625°C<br>Weather: overcast clouds",
          "Temperature: 3.29°C<br>Weather: overcast clouds",
          "Temperature: 3.03°C<br>Weather: overcast clouds",
          "Temperature: 2.0533333333333332°C<br>Weather: light snow"
         ],
         "line": {
          "shape": "linear"
         },
         "marker": {
          "size": 8
         },
         "mode": "lines+markers",
         "name": "Weather on 2024-11-23",
         "type": "scatter",
         "x": [
          "Morning",
          "Noon",
          "Evening",
          "Night"
         ],
         "y": [
          1.625,
          3.29,
          3.03,
          2.0533333333333332
         ]
        },
        {
         "hoverinfo": "text",
         "hovertext": [
          "Temperature: 9.57°C<br>Weather: light rain",
          "Temperature: 11.92°C<br>Weather: overcast clouds",
          "Temperature: 12.09°C<br>Weather: overcast clouds",
          "Temperature: 8.23°C<br>Weather: overcast clouds"
         ],
         "line": {
          "shape": "linear"
         },
         "marker": {
          "size": 8
         },
         "mode": "lines+markers",
         "name": "Weather on 2024-11-24",
         "type": "scatter",
         "x": [
          "Morning",
          "Noon",
          "Evening",
          "Night"
         ],
         "y": [
          9.57,
          11.92,
          12.09,
          8.23
         ]
        }
       ],
       "layout": {
        "autosize": true,
        "hovermode": "closest",
        "template": {
         "data": {
          "bar": [
           {
            "error_x": {
             "color": "#f2f5fa"
            },
            "error_y": {
             "color": "#f2f5fa"
            },
            "marker": {
             "line": {
              "color": "rgb(17,17,17)",
              "width": 0.5
             },
             "pattern": {
              "fillmode": "overlay",
              "size": 10,
              "solidity": 0.2
             }
            },
            "type": "bar"
           }
          ],
          "barpolar": [
           {
            "marker": {
             "line": {
              "color": "rgb(17,17,17)",
              "width": 0.5
             },
             "pattern": {
              "fillmode": "overlay",
              "size": 10,
              "solidity": 0.2
             }
            },
            "type": "barpolar"
           }
          ],
          "carpet": [
           {
            "aaxis": {
             "endlinecolor": "#A2B1C6",
             "gridcolor": "#506784",
             "linecolor": "#506784",
             "minorgridcolor": "#506784",
             "startlinecolor": "#A2B1C6"
            },
            "baxis": {
             "endlinecolor": "#A2B1C6",
             "gridcolor": "#506784",
             "linecolor": "#506784",
             "minorgridcolor": "#506784",
             "startlinecolor": "#A2B1C6"
            },
            "type": "carpet"
           }
          ],
          "choropleth": [
           {
            "colorbar": {
             "outlinewidth": 0,
             "ticks": ""
            },
            "type": "choropleth"
           }
          ],
          "contour": [
           {
            "colorbar": {
             "outlinewidth": 0,
             "ticks": ""
            },
            "colorscale": [
             [
              0,
              "#0d0887"
             ],
             [
              0.1111111111111111,
              "#46039f"
             ],
             [
              0.2222222222222222,
              "#7201a8"
             ],
             [
              0.3333333333333333,
              "#9c179e"
             ],
             [
              0.4444444444444444,
              "#bd3786"
             ],
             [
              0.5555555555555556,
              "#d8576b"
             ],
             [
              0.6666666666666666,
              "#ed7953"
             ],
             [
              0.7777777777777778,
              "#fb9f3a"
             ],
             [
              0.8888888888888888,
              "#fdca26"
             ],
             [
              1,
              "#f0f921"
             ]
            ],
            "type": "contour"
           }
          ],
          "contourcarpet": [
           {
            "colorbar": {
             "outlinewidth": 0,
             "ticks": ""
            },
            "type": "contourcarpet"
           }
          ],
          "heatmap": [
           {
            "colorbar": {
             "outlinewidth": 0,
             "ticks": ""
            },
            "colorscale": [
             [
              0,
              "#0d0887"
             ],
             [
              0.1111111111111111,
              "#46039f"
             ],
             [
              0.2222222222222222,
              "#7201a8"
             ],
             [
              0.3333333333333333,
              "#9c179e"
             ],
             [
              0.4444444444444444,
              "#bd3786"
             ],
             [
              0.5555555555555556,
              "#d8576b"
             ],
             [
              0.6666666666666666,
              "#ed7953"
             ],
             [
              0.7777777777777778,
              "#fb9f3a"
             ],
             [
              0.8888888888888888,
              "#fdca26"
             ],
             [
              1,
              "#f0f921"
             ]
            ],
            "type": "heatmap"
           }
          ],
          "heatmapgl": [
           {
            "colorbar": {
             "outlinewidth": 0,
             "ticks": ""
            },
            "colorscale": [
             [
              0,
              "#0d0887"
             ],
             [
              0.1111111111111111,
              "#46039f"
             ],
             [
              0.2222222222222222,
              "#7201a8"
             ],
             [
              0.3333333333333333,
              "#9c179e"
             ],
             [
              0.4444444444444444,
              "#bd3786"
             ],
             [
              0.5555555555555556,
              "#d8576b"
             ],
             [
              0.6666666666666666,
              "#ed7953"
             ],
             [
              0.7777777777777778,
              "#fb9f3a"
             ],
             [
              0.8888888888888888,
              "#fdca26"
             ],
             [
              1,
              "#f0f921"
             ]
            ],
            "type": "heatmapgl"
           }
          ],
          "histogram": [
           {
            "marker": {
             "pattern": {
              "fillmode": "overlay",
              "size": 10,
              "solidity": 0.2
             }
            },
            "type": "histogram"
           }
          ],
          "histogram2d": [
           {
            "colorbar": {
             "outlinewidth": 0,
             "ticks": ""
            },
            "colorscale": [
             [
              0,
              "#0d0887"
             ],
             [
              0.1111111111111111,
              "#46039f"
             ],
             [
              0.2222222222222222,
              "#7201a8"
             ],
             [
              0.3333333333333333,
              "#9c179e"
             ],
             [
              0.4444444444444444,
              "#bd3786"
             ],
             [
              0.5555555555555556,
              "#d8576b"
             ],
             [
              0.6666666666666666,
              "#ed7953"
             ],
             [
              0.7777777777777778,
              "#fb9f3a"
             ],
             [
              0.8888888888888888,
              "#fdca26"
             ],
             [
              1,
              "#f0f921"
             ]
            ],
            "type": "histogram2d"
           }
          ],
          "histogram2dcontour": [
           {
            "colorbar": {
             "outlinewidth": 0,
             "ticks": ""
            },
            "colorscale": [
             [
              0,
              "#0d0887"
             ],
             [
              0.1111111111111111,
              "#46039f"
             ],
             [
              0.2222222222222222,
              "#7201a8"
             ],
             [
              0.3333333333333333,
              "#9c179e"
             ],
             [
              0.4444444444444444,
              "#bd3786"
             ],
             [
              0.5555555555555556,
              "#d8576b"
             ],
             [
              0.6666666666666666,
              "#ed7953"
             ],
             [
              0.7777777777777778,
              "#fb9f3a"
             ],
             [
              0.8888888888888888,
              "#fdca26"
             ],
             [
              1,
              "#f0f921"
             ]
            ],
            "type": "histogram2dcontour"
           }
          ],
          "mesh3d": [
           {
            "colorbar": {
             "outlinewidth": 0,
             "ticks": ""
            },
            "type": "mesh3d"
           }
          ],
          "parcoords": [
           {
            "line": {
             "colorbar": {
              "outlinewidth": 0,
              "ticks": ""
             }
            },
            "type": "parcoords"
           }
          ],
          "pie": [
           {
            "automargin": true,
            "type": "pie"
           }
          ],
          "scatter": [
           {
            "marker": {
             "line": {
              "color": "#283442"
             }
            },
            "type": "scatter"
           }
          ],
          "scatter3d": [
           {
            "line": {
             "colorbar": {
              "outlinewidth": 0,
              "ticks": ""
             }
            },
            "marker": {
             "colorbar": {
              "outlinewidth": 0,
              "ticks": ""
             }
            },
            "type": "scatter3d"
           }
          ],
          "scattercarpet": [
           {
            "marker": {
             "colorbar": {
              "outlinewidth": 0,
              "ticks": ""
             }
            },
            "type": "scattercarpet"
           }
          ],
          "scattergeo": [
           {
            "marker": {
             "colorbar": {
              "outlinewidth": 0,
              "ticks": ""
             }
            },
            "type": "scattergeo"
           }
          ],
          "scattergl": [
           {
            "marker": {
             "line": {
              "color": "#283442"
             }
            },
            "type": "scattergl"
           }
          ],
          "scattermapbox": [
           {
            "marker": {
             "colorbar": {
              "outlinewidth": 0,
              "ticks": ""
             }
            },
            "type": "scattermapbox"
           }
          ],
          "scatterpolar": [
           {
            "marker": {
             "colorbar": {
              "outlinewidth": 0,
              "ticks": ""
             }
            },
            "type": "scatterpolar"
           }
          ],
          "scatterpolargl": [
           {
            "marker": {
             "colorbar": {
              "outlinewidth": 0,
              "ticks": ""
             }
            },
            "type": "scatterpolargl"
           }
          ],
          "scatterternary": [
           {
            "marker": {
             "colorbar": {
              "outlinewidth": 0,
              "ticks": ""
             }
            },
            "type": "scatterternary"
           }
          ],
          "surface": [
           {
            "colorbar": {
             "outlinewidth": 0,
             "ticks": ""
            },
            "colorscale": [
             [
              0,
              "#0d0887"
             ],
             [
              0.1111111111111111,
              "#46039f"
             ],
             [
              0.2222222222222222,
              "#7201a8"
             ],
             [
              0.3333333333333333,
              "#9c179e"
             ],
             [
              0.4444444444444444,
              "#bd3786"
             ],
             [
              0.5555555555555556,
              "#d8576b"
             ],
             [
              0.6666666666666666,
              "#ed7953"
             ],
             [
              0.7777777777777778,
              "#fb9f3a"
             ],
             [
              0.8888888888888888,
              "#fdca26"
             ],
             [
              1,
              "#f0f921"
             ]
            ],
            "type": "surface"
           }
          ],
          "table": [
           {
            "cells": {
             "fill": {
              "color": "#506784"
             },
             "line": {
              "color": "rgb(17,17,17)"
             }
            },
            "header": {
             "fill": {
              "color": "#2a3f5f"
             },
             "line": {
              "color": "rgb(17,17,17)"
             }
            },
            "type": "table"
           }
          ]
         },
         "layout": {
          "annotationdefaults": {
           "arrowcolor": "#f2f5fa",
           "arrowhead": 0,
           "arrowwidth": 1
          },
          "autotypenumbers": "strict",
          "coloraxis": {
           "colorbar": {
            "outlinewidth": 0,
            "ticks": ""
           }
          },
          "colorscale": {
           "diverging": [
            [
             0,
             "#8e0152"
            ],
            [
             0.1,
             "#c51b7d"
            ],
            [
             0.2,
             "#de77ae"
            ],
            [
             0.3,
             "#f1b6da"
            ],
            [
             0.4,
             "#fde0ef"
            ],
            [
             0.5,
             "#f7f7f7"
            ],
            [
             0.6,
             "#e6f5d0"
            ],
            [
             0.7,
             "#b8e186"
            ],
            [
             0.8,
             "#7fbc41"
            ],
            [
             0.9,
             "#4d9221"
            ],
            [
             1,
             "#276419"
            ]
           ],
           "sequential": [
            [
             0,
             "#0d0887"
            ],
            [
             0.1111111111111111,
             "#46039f"
            ],
            [
             0.2222222222222222,
             "#7201a8"
            ],
            [
             0.3333333333333333,
             "#9c179e"
            ],
            [
             0.4444444444444444,
             "#bd3786"
            ],
            [
             0.5555555555555556,
             "#d8576b"
            ],
            [
             0.6666666666666666,
             "#ed7953"
            ],
            [
             0.7777777777777778,
             "#fb9f3a"
            ],
            [
             0.8888888888888888,
             "#fdca26"
            ],
            [
             1,
             "#f0f921"
            ]
           ],
           "sequentialminus": [
            [
             0,
             "#0d0887"
            ],
            [
             0.1111111111111111,
             "#46039f"
            ],
            [
             0.2222222222222222,
             "#7201a8"
            ],
            [
             0.3333333333333333,
             "#9c179e"
            ],
            [
             0.4444444444444444,
             "#bd3786"
            ],
            [
             0.5555555555555556,
             "#d8576b"
            ],
            [
             0.6666666666666666,
             "#ed7953"
            ],
            [
             0.7777777777777778,
             "#fb9f3a"
            ],
            [
             0.8888888888888888,
             "#fdca26"
            ],
            [
             1,
             "#f0f921"
            ]
           ]
          },
          "colorway": [
           "#636efa",
           "#EF553B",
           "#00cc96",
           "#ab63fa",
           "#FFA15A",
           "#19d3f3",
           "#FF6692",
           "#B6E880",
           "#FF97FF",
           "#FECB52"
          ],
          "font": {
           "color": "#f2f5fa"
          },
          "geo": {
           "bgcolor": "rgb(17,17,17)",
           "lakecolor": "rgb(17,17,17)",
           "landcolor": "rgb(17,17,17)",
           "showlakes": true,
           "showland": true,
           "subunitcolor": "#506784"
          },
          "hoverlabel": {
           "align": "left"
          },
          "hovermode": "closest",
          "mapbox": {
           "style": "dark"
          },
          "paper_bgcolor": "rgb(17,17,17)",
          "plot_bgcolor": "rgb(17,17,17)",
          "polar": {
           "angularaxis": {
            "gridcolor": "#506784",
            "linecolor": "#506784",
            "ticks": ""
           },
           "bgcolor": "rgb(17,17,17)",
           "radialaxis": {
            "gridcolor": "#506784",
            "linecolor": "#506784",
            "ticks": ""
           }
          },
          "scene": {
           "xaxis": {
            "backgroundcolor": "rgb(17,17,17)",
            "gridcolor": "#506784",
            "gridwidth": 2,
            "linecolor": "#506784",
            "showbackground": true,
            "ticks": "",
            "zerolinecolor": "#C8D4E3"
           },
           "yaxis": {
            "backgroundcolor": "rgb(17,17,17)",
            "gridcolor": "#506784",
            "gridwidth": 2,
            "linecolor": "#506784",
            "showbackground": true,
            "ticks": "",
            "zerolinecolor": "#C8D4E3"
           },
           "zaxis": {
            "backgroundcolor": "rgb(17,17,17)",
            "gridcolor": "#506784",
            "gridwidth": 2,
            "linecolor": "#506784",
            "showbackground": true,
            "ticks": "",
            "zerolinecolor": "#C8D4E3"
           }
          },
          "shapedefaults": {
           "line": {
            "color": "#f2f5fa"
           }
          },
          "sliderdefaults": {
           "bgcolor": "#C8D4E3",
           "bordercolor": "rgb(17,17,17)",
           "borderwidth": 1,
           "tickwidth": 0
          },
          "ternary": {
           "aaxis": {
            "gridcolor": "#506784",
            "linecolor": "#506784",
            "ticks": ""
           },
           "baxis": {
            "gridcolor": "#506784",
            "linecolor": "#506784",
            "ticks": ""
           },
           "bgcolor": "rgb(17,17,17)",
           "caxis": {
            "gridcolor": "#506784",
            "linecolor": "#506784",
            "ticks": ""
           }
          },
          "title": {
           "x": 0.05
          },
          "updatemenudefaults": {
           "bgcolor": "#506784",
           "borderwidth": 0
          },
          "xaxis": {
           "automargin": true,
           "gridcolor": "#283442",
           "linecolor": "#506784",
           "ticks": "",
           "title": {
            "standoff": 15
           },
           "zerolinecolor": "#283442",
           "zerolinewidth": 2
          },
          "yaxis": {
           "automargin": true,
           "gridcolor": "#283442",
           "linecolor": "#506784",
           "ticks": "",
           "title": {
            "standoff": 15
           },
           "zerolinecolor": "#283442",
           "zerolinewidth": 2
          }
         }
        },
        "title": {
         "text": "Weather Forecast in Paderborn (Nov 20-24)"
        },
        "xaxis": {
         "autorange": true,
         "range": [
          -0.1905034324942792,
          3.190503432494279
         ],
         "title": {
          "text": "Time of Day"
         },
         "type": "category"
        },
        "yaxis": {
         "autorange": true,
         "range": [
          -1.2992105263157896,
          13.21921052631579
         ],
         "title": {
          "text": "Temperature (°C)"
         },
         "type": "linear"
        }
       }
      },
      "image/png": "[encoded data removed]",
      "text/html": [
       "<div>                            <div id=\"e781b622-71a8-48cc-8c01-bdff4b69e03f\" class=\"plotly-graph-div\" style=\"height:525px; width:100%;\"></div>            <script type=\"text/javascript\">                require([\"plotly\"], function(Plotly) {                    window.PLOTLYENV=window.PLOTLYENV || {};                                    if (document.getElementById(\"e781b622-71a8-48cc-8c01-bdff4b69e03f\")) {                    Plotly.newPlot(                        \"e781b622-71a8-48cc-8c01-bdff4b69e03f\",                        [{\"hoverinfo\":\"text\",\"hovertext\":[\"Temperature: nan\\u00b0C\\u003cbr\\u003eWeather: nan\",\"Temperature: nan\\u00b0C\\u003cbr\\u003eWeather: nan\",\"Temperature: nan\\u00b0C\\u003cbr\\u003eWeather: nan\",\"Temperature: -0.03\\u00b0C\\u003cbr\\u003eWeather: light snow\"],\"line\":{\"shape\":\"linear\"},\"marker\":{\"size\":8},\"mode\":\"lines+markers\",\"name\":\"Weather on 2024-11-21\",\"x\":[\"Morning\",\"Noon\",\"Evening\",\"Night\"],\"y\":[null,null,null,-0.03],\"type\":\"scatter\"},{\"hoverinfo\":\"text\",\"hovertext\":[\"Temperature: -0.17000000000000004\\u00b0C\\u003cbr\\u003eWeather: broken clouds\",\"Temperature: 1.3050000000000002\\u00b0C\\u003cbr\\u003eWeather: overcast clouds\",\"Temperature: 1.49\\u00b0C\\u003cbr\\u003eWeather: light snow\",\"Temperature: 0.75\\u00b0C\\u003cbr\\u003eWeather: snow\"],\"line\":{\"shape\":\"linear\"},\"marker\":{\"size\":8},\"mode\":\"lines+markers\",\"name\":\"Weather on 2024-11-22\",\"x\":[\"Morning\",\"Noon\",\"Evening\",\"Night\"],\"y\":[-0.17000000000000004,1.3050000000000002,1.49,0.75],\"type\":\"scatter\"},{\"hoverinfo\":\"text\",\"hovertext\":[\"Temperature: 1.625\\u00b0C\\u003cbr\\u003eWeather: overcast clouds\",\"Temperature: 3.29\\u00b0C\\u003cbr\\u003eWeather: overcast clouds\",\"Temperature: 3.03\\u00b0C\\u003cbr\\u003eWeather: overcast clouds\",\"Temperature: 2.0533333333333332\\u00b0C\\u003cbr\\u003eWeather: light snow\"],\"line\":{\"shape\":\"linear\"},\"marker\":{\"size\":8},\"mode\":\"lines+markers\",\"name\":\"Weather on 2024-11-23\",\"x\":[\"Morning\",\"Noon\",\"Evening\",\"Night\"],\"y\":[1.625,3.29,3.03,2.0533333333333332],\"type\":\"scatter\"},{\"hoverinfo\":\"text\",\"hovertext\":[\"Temperature: 9.57\\u00b0C\\u003cbr\\u003eWeather: light rain\",\"Temperature: 11.92\\u00b0C\\u003cbr\\u003eWeather: overcast clouds\",\"Temperature: 12.09\\u00b0C\\u003cbr\\u003eWeather: overcast clouds\",\"Temperature: 8.23\\u00b0C\\u003cbr\\u003eWeather: overcast clouds\"],\"line\":{\"shape\":\"linear\"},\"marker\":{\"size\":8},\"mode\":\"lines+markers\",\"name\":\"Weather on 2024-11-24\",\"x\":[\"Morning\",\"Noon\",\"Evening\",\"Night\"],\"y\":[9.57,11.92,12.09,8.23],\"type\":\"scatter\"}],                        {\"template\":{\"data\":{\"barpolar\":[{\"marker\":{\"line\":{\"color\":\"rgb(17,17,17)\",\"width\":0.5},\"pattern\":{\"fillmode\":\"overlay\",\"size\":10,\"solidity\":0.2}},\"type\":\"barpolar\"}],\"bar\":[{\"error_x\":{\"color\":\"#f2f5fa\"},\"error_y\":{\"color\":\"#f2f5fa\"},\"marker\":{\"line\":{\"color\":\"rgb(17,17,17)\",\"width\":0.5},\"pattern\":{\"fillmode\":\"overlay\",\"size\":10,\"solidity\":0.2}},\"type\":\"bar\"}],\"carpet\":[{\"aaxis\":{\"endlinecolor\":\"#A2B1C6\",\"gridcolor\":\"#506784\",\"linecolor\":\"#506784\",\"minorgridcolor\":\"#506784\",\"startlinecolor\":\"#A2B1C6\"},\"baxis\":{\"endlinecolor\":\"#A2B1C6\",\"gridcolor\":\"#506784\",\"linecolor\":\"#506784\",\"minorgridcolor\":\"#506784\",\"startlinecolor\":\"#A2B1C6\"},\"type\":\"carpet\"}],\"choropleth\":[{\"colorbar\":{\"outlinewidth\":0,\"ticks\":\"\"},\"type\":\"choropleth\"}],\"contourcarpet\":[{\"colorbar\":{\"outlinewidth\":0,\"ticks\":\"\"},\"type\":\"contourcarpet\"}],\"contour\":[{\"colorbar\":{\"outlinewidth\":0,\"ticks\":\"\"},\"colorscale\":[[0.0,\"#0d0887\"],[0.1111111111111111,\"#46039f\"],[0.2222222222222222,\"#7201a8\"],[0.3333333333333333,\"#9c179e\"],[0.4444444444444444,\"#bd3786\"],[0.5555555555555556,\"#d8576b\"],[0.6666666666666666,\"#ed7953\"],[0.7777777777777778,\"#fb9f3a\"],[0.8888888888888888,\"#fdca26\"],[1.0,\"#f0f921\"]],\"type\":\"contour\"}],\"heatmapgl\":[{\"colorbar\":{\"outlinewidth\":0,\"ticks\":\"\"},\"colorscale\":[[0.0,\"#0d0887\"],[0.1111111111111111,\"#46039f\"],[0.2222222222222222,\"#7201a8\"],[0.3333333333333333,\"#9c179e\"],[0.4444444444444444,\"#bd3786\"],[0.5555555555555556,\"#d8576b\"],[0.6666666666666666,\"#ed7953\"],[0.7777777777777778,\"#fb9f3a\"],[0.8888888888888888,\"#fdca26\"],[1.0,\"#f0f921\"]],\"type\":\"heatmapgl\"}],\"heatmap\":[{\"colorbar\":{\"outlinewidth\":0,\"ticks\":\"\"},\"colorscale\":[[0.0,\"#0d0887\"],[0.1111111111111111,\"#46039f\"],[0.2222222222222222,\"#7201a8\"],[0.3333333333333333,\"#9c179e\"],[0.4444444444444444,\"#bd3786\"],[0.5555555555555556,\"#d8576b\"],[0.6666666666666666,\"#ed7953\"],[0.7777777777777778,\"#fb9f3a\"],[0.8888888888888888,\"#fdca26\"],[1.0,\"#f0f921\"]],\"type\":\"heatmap\"}],\"histogram2dcontour\":[{\"colorbar\":{\"outlinewidth\":0,\"ticks\":\"\"},\"colorscale\":[[0.0,\"#0d0887\"],[0.1111111111111111,\"#46039f\"],[0.2222222222222222,\"#7201a8\"],[0.3333333333333333,\"#9c179e\"],[0.4444444444444444,\"#bd3786\"],[0.5555555555555556,\"#d8576b\"],[0.6666666666666666,\"#ed7953\"],[0.7777777777777778,\"#fb9f3a\"],[0.8888888888888888,\"#fdca26\"],[1.0,\"#f0f921\"]],\"type\":\"histogram2dcontour\"}],\"histogram2d\":[{\"colorbar\":{\"outlinewidth\":0,\"ticks\":\"\"},\"colorscale\":[[0.0,\"#0d0887\"],[0.1111111111111111,\"#46039f\"],[0.2222222222222222,\"#7201a8\"],[0.3333333333333333,\"#9c179e\"],[0.4444444444444444,\"#bd3786\"],[0.5555555555555556,\"#d8576b\"],[0.6666666666666666,\"#ed7953\"],[0.7777777777777778,\"#fb9f3a\"],[0.8888888888888888,\"#fdca26\"],[1.0,\"#f0f921\"]],\"type\":\"histogram2d\"}],\"histogram\":[{\"marker\":{\"pattern\":{\"fillmode\":\"overlay\",\"size\":10,\"solidity\":0.2}},\"type\":\"histogram\"}],\"mesh3d\":[{\"colorbar\":{\"outlinewidth\":0,\"ticks\":\"\"},\"type\":\"mesh3d\"}],\"parcoords\":[{\"line\":{\"colorbar\":{\"outlinewidth\":0,\"ticks\":\"\"}},\"type\":\"parcoords\"}],\"pie\":[{\"automargin\":true,\"type\":\"pie\"}],\"scatter3d\":[{\"line\":{\"colorbar\":{\"outlinewidth\":0,\"ticks\":\"\"}},\"marker\":{\"colorbar\":{\"outlinewidth\":0,\"ticks\":\"\"}},\"type\":\"scatter3d\"}],\"scattercarpet\":[{\"marker\":{\"colorbar\":{\"outlinewidth\":0,\"ticks\":\"\"}},\"type\":\"scattercarpet\"}],\"scattergeo\":[{\"marker\":{\"colorbar\":{\"outlinewidth\":0,\"ticks\":\"\"}},\"type\":\"scattergeo\"}],\"scattergl\":[{\"marker\":{\"line\":{\"color\":\"#283442\"}},\"type\":\"scattergl\"}],\"scattermapbox\":[{\"marker\":{\"colorbar\":{\"outlinewidth\":0,\"ticks\":\"\"}},\"type\":\"scattermapbox\"}],\"scatterpolargl\":[{\"marker\":{\"colorbar\":{\"outlinewidth\":0,\"ticks\":\"\"}},\"type\":\"scatterpolargl\"}],\"scatterpolar\":[{\"marker\":{\"colorbar\":{\"outlinewidth\":0,\"ticks\":\"\"}},\"type\":\"scatterpolar\"}],\"scatter\":[{\"marker\":{\"line\":{\"color\":\"#283442\"}},\"type\":\"scatter\"}],\"scatterternary\":[{\"marker\":{\"colorbar\":{\"outlinewidth\":0,\"ticks\":\"\"}},\"type\":\"scatterternary\"}],\"surface\":[{\"colorbar\":{\"outlinewidth\":0,\"ticks\":\"\"},\"colorscale\":[[0.0,\"#0d0887\"],[0.1111111111111111,\"#46039f\"],[0.2222222222222222,\"#7201a8\"],[0.3333333333333333,\"#9c179e\"],[0.4444444444444444,\"#bd3786\"],[0.5555555555555556,\"#d8576b\"],[0.6666666666666666,\"#ed7953\"],[0.7777777777777778,\"#fb9f3a\"],[0.8888888888888888,\"#fdca26\"],[1.0,\"#f0f921\"]],\"type\":\"surface\"}],\"table\":[{\"cells\":{\"fill\":{\"color\":\"#506784\"},\"line\":{\"color\":\"rgb(17,17,17)\"}},\"header\":{\"fill\":{\"color\":\"#2a3f5f\"},\"line\":{\"color\":\"rgb(17,17,17)\"}},\"type\":\"table\"}]},\"layout\":{\"annotationdefaults\":{\"arrowcolor\":\"#f2f5fa\",\"arrowhead\":0,\"arrowwidth\":1},\"autotypenumbers\":\"strict\",\"coloraxis\":{\"colorbar\":{\"outlinewidth\":0,\"ticks\":\"\"}},\"colorscale\":{\"diverging\":[[0,\"#8e0152\"],[0.1,\"#c51b7d\"],[0.2,\"#de77ae\"],[0.3,\"#f1b6da\"],[0.4,\"#fde0ef\"],[0.5,\"#f7f7f7\"],[0.6,\"#e6f5d0\"],[0.7,\"#b8e186\"],[0.8,\"#7fbc41\"],[0.9,\"#4d9221\"],[1,\"#276419\"]],\"sequential\":[[0.0,\"#0d0887\"],[0.1111111111111111,\"#46039f\"],[0.2222222222222222,\"#7201a8\"],[0.3333333333333333,\"#9c179e\"],[0.4444444444444444,\"#bd3786\"],[0.5555555555555556,\"#d8576b\"],[0.6666666666666666,\"#ed7953\"],[0.7777777777777778,\"#fb9f3a\"],[0.8888888888888888,\"#fdca26\"],[1.0,\"#f0f921\"]],\"sequentialminus\":[[0.0,\"#0d0887\"],[0.1111111111111111,\"#46039f\"],[0.2222222222222222,\"#7201a8\"],[0.3333333333333333,\"#9c179e\"],[0.4444444444444444,\"#bd3786\"],[0.5555555555555556,\"#d8576b\"],[0.6666666666666666,\"#ed7953\"],[0.7777777777777778,\"#fb9f3a\"],[0.8888888888888888,\"#fdca26\"],[1.0,\"#f0f921\"]]},\"colorway\":[\"#636efa\",\"#EF553B\",\"#00cc96\",\"#ab63fa\",\"#FFA15A\",\"#19d3f3\",\"#FF6692\",\"#B6E880\",\"#FF97FF\",\"#FECB52\"],\"font\":{\"color\":\"#f2f5fa\"},\"geo\":{\"bgcolor\":\"rgb(17,17,17)\",\"lakecolor\":\"rgb(17,17,17)\",\"landcolor\":\"rgb(17,17,17)\",\"showlakes\":true,\"showland\":true,\"subunitcolor\":\"#506784\"},\"hoverlabel\":{\"align\":\"left\"},\"hovermode\":\"closest\",\"mapbox\":{\"style\":\"dark\"},\"paper_bgcolor\":\"rgb(17,17,17)\",\"plot_bgcolor\":\"rgb(17,17,17)\",\"polar\":{\"angularaxis\":{\"gridcolor\":\"#506784\",\"linecolor\":\"#506784\",\"ticks\":\"\"},\"bgcolor\":\"rgb(17,17,17)\",\"radialaxis\":{\"gridcolor\":\"#506784\",\"linecolor\":\"#506784\",\"ticks\":\"\"}},\"scene\":{\"xaxis\":{\"backgroundcolor\":\"rgb(17,17,17)\",\"gridcolor\":\"#506784\",\"gridwidth\":2,\"linecolor\":\"#506784\",\"showbackground\":true,\"ticks\":\"\",\"zerolinecolor\":\"#C8D4E3\"},\"yaxis\":{\"backgroundcolor\":\"rgb(17,17,17)\",\"gridcolor\":\"#506784\",\"gridwidth\":2,\"linecolor\":\"#506784\",\"showbackground\":true,\"ticks\":\"\",\"zerolinecolor\":\"#C8D4E3\"},\"zaxis\":{\"backgroundcolor\":\"rgb(17,17,17)\",\"gridcolor\":\"#506784\",\"gridwidth\":2,\"linecolor\":\"#506784\",\"showbackground\":true,\"ticks\":\"\",\"zerolinecolor\":\"#C8D4E3\"}},\"shapedefaults\":{\"line\":{\"color\":\"#f2f5fa\"}},\"sliderdefaults\":{\"bgcolor\":\"#C8D4E3\",\"bordercolor\":\"rgb(17,17,17)\",\"borderwidth\":1,\"tickwidth\":0},\"ternary\":{\"aaxis\":{\"gridcolor\":\"#506784\",\"linecolor\":\"#506784\",\"ticks\":\"\"},\"baxis\":{\"gridcolor\":\"#506784\",\"linecolor\":\"#506784\",\"ticks\":\"\"},\"bgcolor\":\"rgb(17,17,17)\",\"caxis\":{\"gridcolor\":\"#506784\",\"linecolor\":\"#506784\",\"ticks\":\"\"}},\"title\":{\"x\":0.05},\"updatemenudefaults\":{\"bgcolor\":\"#506784\",\"borderwidth\":0},\"xaxis\":{\"automargin\":true,\"gridcolor\":\"#283442\",\"linecolor\":\"#506784\",\"ticks\":\"\",\"title\":{\"standoff\":15},\"zerolinecolor\":\"#283442\",\"zerolinewidth\":2},\"yaxis\":{\"automargin\":true,\"gridcolor\":\"#283442\",\"linecolor\":\"#506784\",\"ticks\":\"\",\"title\":{\"standoff\":15},\"zerolinecolor\":\"#283442\",\"zerolinewidth\":2}}},\"title\":{\"text\":\"Weather Forecast in Paderborn (Nov 20-24)\"},\"xaxis\":{\"title\":{\"text\":\"Time of Day\"}},\"yaxis\":{\"title\":{\"text\":\"Temperature (\\u00b0C)\"}},\"hovermode\":\"closest\"},                        {\"responsive\": true}                    ).then(function(){\n",
       "                            \n",
       "var gd = document.getElementById('e781b622-71a8-48cc-8c01-bdff4b69e03f');\n",
       "var x = new MutationObserver(function (mutations, observer) {{\n",
       "        var display = window.getComputedStyle(gd).display;\n",
       "        if (!display || display === 'none') {{\n",
       "            console.log([gd, 'removed!']);\n",
       "            Plotly.purge(gd);\n",
       "            observer.disconnect();\n",
       "        }}\n",
       "}});\n",
       "\n",
       "// Listen for the removal of the full notebook cells\n",
       "var notebookContainer = gd.closest('#notebook-container');\n",
       "if (notebookContainer) {{\n",
       "    x.observe(notebookContainer, {childList: true});\n",
       "}}\n",
       "\n",
       "// Listen for the clearing of the current output cell\n",
       "var outputEl = gd.closest('.output');\n",
       "if (outputEl) {{\n",
       "    x.observe(outputEl, {childList: true});\n",
       "}}\n",
       "\n",
       "                        })                };                });            </script>        </div>"
      ]
     },
     "metadata": {},
     "output_type": "display_data"
    }
   ],
   "source": [
    "import requests\n",
    "import pandas as pd\n",
    "import plotly.graph_objects as go\n",
    "\n",
    "# Define your API Key and city\n",
    "API_KEY = 'API key'  # Replace with your actual API key\n",
    "city = \"Paderborn\"\n",
    "\n",
    "# URL to get weather forecast (5 days forecast)\n",
    "url = f\"http://api.openweathermap.org/data/2.5/forecast?q={city}&units=metric&cnt=40&appid={API_KEY}\"\n",
    "\n",
    "# Request the data from the API\n",
    "response = requests.get(url)\n",
    "\n",
    "# Check if the request was successful (status code 200)\n",
    "if response.status_code == 200:\n",
    "    data = response.json()  # Receiving the response in JSON format\n",
    "    \n",
    "    # Extract relevant weather information for the next 5 days (morning, noon, evening, night)\n",
    "    weather_data = []\n",
    "    if 'list' in data:  # Check if 'list' exists in the response\n",
    "        for forecast in data['list']:\n",
    "            dt = pd.to_datetime(forecast['dt_txt'])\n",
    "            if dt.month == 11 and dt.day in range(20, 25):  # Adjust for the next 5 days (20th-24th Nov)\n",
    "                time_of_day = None\n",
    "                \n",
    "                # Assign times of day: Morning, Noon, Evening, Night\n",
    "                if 6 <= dt.hour < 12:\n",
    "                    time_of_day = 'Morning'\n",
    "                elif 12 <= dt.hour < 18:\n",
    "                    time_of_day = 'Noon'\n",
    "                elif 18 <= dt.hour < 21:\n",
    "                    time_of_day = 'Evening'\n",
    "                else:\n",
    "                    time_of_day = 'Night'\n",
    "                \n",
    "                # Append relevant data\n",
    "                weather_data.append({\n",
    "                    'Date': dt.strftime('%Y-%m-%d'),\n",
    "                    'Time of Day': time_of_day,\n",
    "                    'Temperature': forecast['main']['temp'],\n",
    "                    'Weather': forecast['weather'][0]['description']\n",
    "                })\n",
    "        \n",
    "        # Convert to DataFrame\n",
    "        df = pd.DataFrame(weather_data)\n",
    "        \n",
    "        # Create a pivot table to restructure data for plotting\n",
    "        pivot_df = df.pivot_table(index='Date', columns='Time of Day', values='Temperature', aggfunc='mean')\n",
    "        ordered_columns = [ \"Morning\", \"Noon\", \"Evening\", \"Night\"]\n",
    "        pivot_df = pivot_df[ordered_columns]\n",
    "        weather_desc = df.pivot_table(index='Date', columns='Time of Day', values='Weather', aggfunc='first')\n",
    "        \n",
    "        \n",
    "        # Plotting the data for 5 days with hover functionality\n",
    "        fig = go.Figure()\n",
    "        \n",
    "        for day in pivot_df.index:\n",
    "            fig.add_trace(go.Scatter(\n",
    "                x=pivot_df.columns, \n",
    "                y=pivot_df.loc[day],\n",
    "                mode='lines+markers',\n",
    "                name=f\"Weather on {day}\",\n",
    "                hovertext=[f\"Temperature: {pivot_df.loc[day][time]}°C<br>Weather: {weather_desc.loc[day][time]}\" for time in pivot_df.columns],\n",
    "                hoverinfo=\"text\",  # Shows the hover text\n",
    "                line=dict(shape='linear'),\n",
    "                marker=dict(size=8)\n",
    "            ))\n",
    "\n",
    "        # Add title and labels\n",
    "        fig.update_layout(\n",
    "            title=\"Weather Forecast in Paderborn (Nov 20-24)\",\n",
    "            xaxis_title=\"Time of Day\",\n",
    "            yaxis_title=\"Temperature (°C)\",\n",
    "            hovermode=\"closest\",  # This enables hover effects to work\n",
    "            template=\"plotly_dark\"\n",
    "        )\n",
    "        \n",
    "        # Show the figure\n",
    "        fig.show()\n",
    "\n",
    "    else:\n",
    "        print(\"Error: 'list' key not found in the response data.\")\n",
    "else:\n",
    "    print(f\"Error: Failed to retrieve data. Status code: {response.status_code}\")\n"
   ]
  },
  {
   "cell_type": "code",
   "execution_count": null,
   "id": "ff013ce8-3edc-474e-b0d8-359ff6e68825",
   "metadata": {},
   "outputs": [],
   "source": []
  }
 ],
 "metadata": {
  "kernelspec": {
   "display_name": "Python 3 (ipykernel)",
   "language": "python",
   "name": "python3"
  },
  "language_info": {
   "codemirror_mode": {
    "name": "ipython",
    "version": 3
   },
   "file_extension": ".py",
   "mimetype": "text/x-python",
   "name": "python",
   "nbconvert_exporter": "python",
   "pygments_lexer": "ipython3",
   "version": "3.12.4"
  }
 },
 "nbformat": 4,
 "nbformat_minor": 5
}
